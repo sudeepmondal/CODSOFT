{
  "nbformat": 4,
  "nbformat_minor": 0,
  "metadata": {
    "colab": {
      "provenance": []
    },
    "kernelspec": {
      "name": "python3",
      "display_name": "Python 3"
    },
    "language_info": {
      "name": "python"
    }
  },
  "cells": [
    {
      "cell_type": "code",
      "execution_count": null,
      "metadata": {
        "id": "IUP1dyB1myLU"
      },
      "outputs": [],
      "source": [
        "# Import necessary libraries\n",
        "import pandas as pd\n",
        "import seaborn as sns\n",
        "import matplotlib.pyplot as plt\n",
        "\n",
        "from sklearn.model_selection import train_test_split\n",
        "from sklearn.linear_model import LinearRegression\n",
        "from sklearn.metrics import mean_squared_error, r2_score\n",
        "\n",
        "# Sample dataset creation (You can replace this with your own CSV)\n",
        "data = {\n",
        "    'TV': [230.1, 44.5, 17.2, 151.5, 180.8],\n",
        "    'Radio': [37.8, 39.3, 45.9, 41.3, 10.8],\n",
        "    'Newspaper': [69.2, 45.1, 69.3, 58.5, 58.4],\n",
        "    'Sales': [22.1, 10.4, 9.3, 18.5, 12.9]\n",
        "}\n",
        "df = pd.DataFrame(data)\n",
        "\n",
        "# Display first few rows\n",
        "print(\"Dataset:\\n\", df.head())\n",
        "\n",
        "# Exploratory Data Analysis (EDA)\n",
        "sns.pairplot(df)\n",
        "plt.suptitle(\"Pairplot of Features\", y=1.02)\n",
        "plt.show()\n",
        "\n",
        "# Define features and target\n",
        "X = df[['TV', 'Radio', 'Newspaper']]\n",
        "y = df['Sales']\n",
        "\n",
        "# Split dataset into training and testing sets\n",
        "X_train, X_test, y_train, y_test = train_test_split(\n",
        "    X, y, test_size=0.2, random_state=42\n",
        ")\n",
        "\n",
        "# Initialize and train the Linear Regression model\n",
        "model = LinearRegression()\n",
        "model.fit(X_train, y_train)\n",
        "\n",
        "# Make predictions\n",
        "y_pred = model.predict(X_test)\n",
        "\n",
        "# Evaluate the model\n",
        "print(\"\\nModel Coefficients:\", model.coef_)\n",
        "print(\"Model Intercept:\", model.intercept_)\n",
        "print(\"Mean Squared Error (MSE):\", mean_squared_error(y_test, y_pred))\n",
        "print(\"R² Score (Accuracy):\", r2_score(y_test, y_pred))\n",
        "\n",
        "# Predict a new example\n",
        "new_data = [[150, 30, 20]]  # TV=150, Radio=30, Newspaper=20\n",
        "predicted_sales = model.predict(new_data)\n",
        "print(\"\\nPredicted Sales for [TV=150, Radio=30, Newspaper=20]:\", predicted_sales[0])\n"
      ]
    }
  ]
}